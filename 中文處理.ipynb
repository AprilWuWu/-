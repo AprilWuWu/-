{
  "nbformat": 4,
  "nbformat_minor": 0,
  "metadata": {
    "colab": {
      "name": "中文處理.ipynb",
      "provenance": [],
      "collapsed_sections": [],
      "toc_visible": true,
      "include_colab_link": true
    },
    "kernelspec": {
      "name": "python3",
      "display_name": "Python 3"
    }
  },
  "cells": [
    {
      "cell_type": "markdown",
      "metadata": {
        "id": "view-in-github",
        "colab_type": "text"
      },
      "source": [
        "<a href=\"https://colab.research.google.com/github/AprilWuWu/AI-Portfolio/blob/main/%E4%B8%AD%E6%96%87%E8%99%95%E7%90%86.ipynb\" target=\"_parent\"><img src=\"https://colab.research.google.com/assets/colab-badge.svg\" alt=\"Open In Colab\"/></a>"
      ]
    },
    {
      "cell_type": "markdown",
      "metadata": {
        "id": "-5kFa-UXaQ0R"
      },
      "source": [
        "#  簡繁處理\n",
        "##  https://pypi.org/project/opencc-python-reimplemented/"
      ]
    },
    {
      "cell_type": "code",
      "metadata": {
        "id": "IQ2GfYQbZEd0",
        "outputId": "647949ee-fe41-452b-b230-5b38578bb35f",
        "colab": {
          "base_uri": "https://localhost:8080/",
          "height": 211
        }
      },
      "source": [
        "!pip install opencc-python-reimplemented"
      ],
      "execution_count": null,
      "outputs": [
        {
          "output_type": "stream",
          "text": [
            "Collecting opencc-python-reimplemented\n",
            "\u001b[?25l  Downloading https://files.pythonhosted.org/packages/04/aa/02c5ffc87e2bf1da1f476d35aa4de69cad2cfc3140e37114755c454d1231/opencc-python-reimplemented-0.1.6.tar.gz (484kB)\n",
            "\r\u001b[K     |▊                               | 10kB 19.6MB/s eta 0:00:01\r\u001b[K     |█▍                              | 20kB 1.7MB/s eta 0:00:01\r\u001b[K     |██                              | 30kB 2.2MB/s eta 0:00:01\r\u001b[K     |██▊                             | 40kB 2.4MB/s eta 0:00:01\r\u001b[K     |███▍                            | 51kB 1.9MB/s eta 0:00:01\r\u001b[K     |████                            | 61kB 2.1MB/s eta 0:00:01\r\u001b[K     |████▊                           | 71kB 2.4MB/s eta 0:00:01\r\u001b[K     |█████▍                          | 81kB 2.6MB/s eta 0:00:01\r\u001b[K     |██████                          | 92kB 2.8MB/s eta 0:00:01\r\u001b[K     |██████▊                         | 102kB 2.7MB/s eta 0:00:01\r\u001b[K     |███████▍                        | 112kB 2.7MB/s eta 0:00:01\r\u001b[K     |████████▏                       | 122kB 2.7MB/s eta 0:00:01\r\u001b[K     |████████▉                       | 133kB 2.7MB/s eta 0:00:01\r\u001b[K     |█████████▌                      | 143kB 2.7MB/s eta 0:00:01\r\u001b[K     |██████████▏                     | 153kB 2.7MB/s eta 0:00:01\r\u001b[K     |██████████▉                     | 163kB 2.7MB/s eta 0:00:01\r\u001b[K     |███████████▌                    | 174kB 2.7MB/s eta 0:00:01\r\u001b[K     |████████████▏                   | 184kB 2.7MB/s eta 0:00:01\r\u001b[K     |████████████▉                   | 194kB 2.7MB/s eta 0:00:01\r\u001b[K     |█████████████▌                  | 204kB 2.7MB/s eta 0:00:01\r\u001b[K     |██████████████▏                 | 215kB 2.7MB/s eta 0:00:01\r\u001b[K     |██████████████▉                 | 225kB 2.7MB/s eta 0:00:01\r\u001b[K     |███████████████▌                | 235kB 2.7MB/s eta 0:00:01\r\u001b[K     |████████████████▎               | 245kB 2.7MB/s eta 0:00:01\r\u001b[K     |█████████████████               | 256kB 2.7MB/s eta 0:00:01\r\u001b[K     |█████████████████▋              | 266kB 2.7MB/s eta 0:00:01\r\u001b[K     |██████████████████▎             | 276kB 2.7MB/s eta 0:00:01\r\u001b[K     |███████████████████             | 286kB 2.7MB/s eta 0:00:01\r\u001b[K     |███████████████████▋            | 296kB 2.7MB/s eta 0:00:01\r\u001b[K     |████████████████████▎           | 307kB 2.7MB/s eta 0:00:01\r\u001b[K     |█████████████████████           | 317kB 2.7MB/s eta 0:00:01\r\u001b[K     |█████████████████████▋          | 327kB 2.7MB/s eta 0:00:01\r\u001b[K     |██████████████████████▎         | 337kB 2.7MB/s eta 0:00:01\r\u001b[K     |███████████████████████         | 348kB 2.7MB/s eta 0:00:01\r\u001b[K     |███████████████████████▊        | 358kB 2.7MB/s eta 0:00:01\r\u001b[K     |████████████████████████▍       | 368kB 2.7MB/s eta 0:00:01\r\u001b[K     |█████████████████████████       | 378kB 2.7MB/s eta 0:00:01\r\u001b[K     |█████████████████████████▊      | 389kB 2.7MB/s eta 0:00:01\r\u001b[K     |██████████████████████████▍     | 399kB 2.7MB/s eta 0:00:01\r\u001b[K     |███████████████████████████     | 409kB 2.7MB/s eta 0:00:01\r\u001b[K     |███████████████████████████▊    | 419kB 2.7MB/s eta 0:00:01\r\u001b[K     |████████████████████████████▍   | 430kB 2.7MB/s eta 0:00:01\r\u001b[K     |█████████████████████████████   | 440kB 2.7MB/s eta 0:00:01\r\u001b[K     |█████████████████████████████▊  | 450kB 2.7MB/s eta 0:00:01\r\u001b[K     |██████████████████████████████▍ | 460kB 2.7MB/s eta 0:00:01\r\u001b[K     |███████████████████████████████ | 471kB 2.7MB/s eta 0:00:01\r\u001b[K     |███████████████████████████████▉| 481kB 2.7MB/s eta 0:00:01\r\u001b[K     |████████████████████████████████| 491kB 2.7MB/s \n",
            "\u001b[?25hBuilding wheels for collected packages: opencc-python-reimplemented\n",
            "  Building wheel for opencc-python-reimplemented (setup.py) ... \u001b[?25l\u001b[?25hdone\n",
            "  Created wheel for opencc-python-reimplemented: filename=opencc_python_reimplemented-0.1.6-py2.py3-none-any.whl size=486136 sha256=bf8783e3e8fe209ff36328a7b7c5da84f0b7564ae80bb1250538c149cc07212f\n",
            "  Stored in directory: /root/.cache/pip/wheels/54/8a/0f/405db0ba3f02d9af8211422d3ae94c47b3296256f168ac1e68\n",
            "Successfully built opencc-python-reimplemented\n",
            "Installing collected packages: opencc-python-reimplemented\n",
            "Successfully installed opencc-python-reimplemented-0.1.6\n"
          ],
          "name": "stdout"
        }
      ]
    },
    {
      "cell_type": "code",
      "metadata": {
        "id": "HaA-qGXjZdd4",
        "outputId": "c1f399d1-912a-489c-e4fe-fbccdfc68f92",
        "colab": {
          "base_uri": "https://localhost:8080/",
          "height": 35
        }
      },
      "source": [
        "from opencc import OpenCC\n",
        "cc = OpenCC('s2twp')  # convert from Simplified Chinese to Traditional Chinese\n",
        "# can also set conversion by calling set_conversion\n",
        "# cc.set_conversion('s2tw')\n",
        "to_convert = '中国人都快死光了'\n",
        "converted = cc.convert(to_convert)\n",
        "converted"
      ],
      "execution_count": null,
      "outputs": [
        {
          "output_type": "execute_result",
          "data": {
            "application/vnd.google.colaboratory.intrinsic": {
              "type": "string"
            },
            "text/plain": [
              "'中國人都快死光了'"
            ]
          },
          "metadata": {
            "tags": []
          },
          "execution_count": 2
        }
      ]
    },
    {
      "cell_type": "markdown",
      "metadata": {
        "id": "kp8GuETDbPFB"
      },
      "source": [
        "---"
      ]
    },
    {
      "cell_type": "markdown",
      "metadata": {
        "id": "EYMY267wbFTC"
      },
      "source": [
        "#  斷詞工具\n",
        "## https://github.com/fxsjy/jieba"
      ]
    },
    {
      "cell_type": "code",
      "metadata": {
        "id": "e0Uk62pXcBhk"
      },
      "source": [
        "news = \"\"\"中國大陸近來洪災不斷，其中三峽大壩更一再傳出「潰壩」消息，但成功大學水利學者表示，潰壩根本就是謠言，從目前獲知的消息，大壩「超級安全」，完全沒有崩潰的問題；至於還有消息傳出大壩連日洩洪是造成下游水患的主因，專家也認為，應該影響不大。\n",
        "\n",
        "成大水利系教授、防災研究中心主任謝正倫表示，三峽大壩最早傳出潰壩，應該是之前一張google map上的衛星圖，顯示壩體變形，但事實上應該是圖像解析度的問題，目前已換了新照片，看不出來之前的變形。\n",
        "\n",
        "他表示，大壩設計的洩洪量為為每秒12萬立方公尺，目前獲得消息，上游的進水量大約5-7萬立方公尺，加上又有洩洪，壩體看不出有潰壩的急迫性。\n",
        "\n",
        "水利系教授周乃昉也表示，「應該是搞錯了」，之前大陸旅德的學者王維洛在網路上公布許多資料，直指三峽大壩有潰壩的危機，其中提到大壩的「汛限水位」是145公尺，只要超過就有潰壩之虞。\n",
        "\n",
        "他表示，事實上汛限水位以上，才是汛期供蓄存洪水之用，三峽大壩可以裝水到175公尺，但目前資料顯示，與175公尺還有很大的距離，而且又有洩洪，所以壩體可以說是超級安全，潰壩的機率微乎其微，不了解為何之前很多媒體都報導三峽可能潰壩。\"\"\""
      ],
      "execution_count": null,
      "outputs": []
    },
    {
      "cell_type": "code",
      "metadata": {
        "id": "AEPeqaQWbt-7",
        "outputId": "2535d659-05be-4a8b-e9ca-72426f80b9f9",
        "colab": {
          "base_uri": "https://localhost:8080/",
          "height": 226
        }
      },
      "source": [
        "import jieba\n",
        "from urllib.request import urlretrieve\n",
        "# list(jieba.cut(news))  #  偶而使用\n",
        "\n",
        "url = 'https://github.com/fxsjy/jieba/raw/master/extra_dict/dict.txt.big'\n",
        "urlretrieve(url, 'dict.txt.big') # 下載大字典\n",
        "jieba.set_dictionary('dict.txt.big')  # 載入字典\n",
        "jieba.load_userdict('mydict.txt') # 載入自定義字典\n",
        "\"  \".join(jieba.cut(news))"
      ],
      "execution_count": null,
      "outputs": [
        {
          "output_type": "stream",
          "text": [
            "Building prefix dict from /content/dict.txt.big ...\n",
            "Dumping model to file cache /tmp/jieba.u501edca284da514cb68b53a20324f4e3.cache\n",
            "Loading model cost 1.577 seconds.\n",
            "Prefix dict has been built successfully.\n"
          ],
          "name": "stderr"
        },
        {
          "output_type": "execute_result",
          "data": {
            "application/vnd.google.colaboratory.intrinsic": {
              "type": "string"
            },
            "text/plain": [
              "'中國  大陸  近來  洪災  不斷  ，  其中  三峽大壩  更  一再  傳出  「  潰壩  」  消息  ，  但  成功大學  水利  學者  表示  ，  潰壩  根本就是  謠言  ，  從  目前  獲知  的  消息  ，  大壩  「  超級  安全  」  ，  完全  沒有  崩潰  的  問題  ；  至於  還有  消息  傳出  大壩  連日  洩洪是  造成  下游  水患  的  主因  ，  專家  也  認為  ，  應該  影響  不大  。  \\n  \\n  成  大  水利系  教授  、  防災  研究  中心  主任  謝正倫  表示  ，  三峽大壩  最早  傳出  潰壩  ，  應該  是  之前  一張  googlo     map  上  的  衛  星圖  ，  顯示  壩體  變形  ，  但  事實上  應該  是  圖像  解析度  的  問題  ，  目前  已換  了  新  照片  ，  看不出來  之前  的  變形  。  \\n  \\n  他  表示  ，  大壩  設計  的  洩  洪量  為  為  每秒  12  萬  立方公尺  ，  目前  獲得  消息  ，  上游  的  進  水量  大約  5  -  7  萬  立方公尺  ，  加上  又  有  洩洪  ，  壩體  看不出  有  潰壩  的  急迫  性  。  \\n  \\n  水利系  教授  周乃  昉  也  表示  ，  「  應該  是  搞錯  了  」  ，  之前  大陸  旅德  的  學者  王維  洛在  網路上  公布  許多  資料  ，  直指  三峽大壩  有  潰壩  的  危機  ，  其中  提到  大壩  的  「  汛限水位  」  是  145  公尺  ，  只要  超過  就  有  潰壩  之虞  。  \\n  \\n  他  表示  ，  事實上  汛限水位  以上  ，  才  是  汛期  供蓄存  洪水  之用  ，  三峽大壩  可以  裝水到  175  公尺  ，  但  目前  資料  顯示  ，  與  175  公尺  還有  很大  的  距離  ，  而且  又  有  洩洪  ，  所以  壩體  可以  說  是  超級  安全  ，  潰壩  的  機率  微乎其微  ，  不  了解  為何  之前  很多  媒體  都  報導  三峽  可能  潰壩  。'"
            ]
          },
          "metadata": {
            "tags": []
          },
          "execution_count": 5
        }
      ]
    },
    {
      "cell_type": "code",
      "metadata": {
        "id": "eh-vepwd9cgJ",
        "outputId": "0e375be7-faf6-4d5e-ee70-de180eec4eca",
        "colab": {
          "base_uri": "https://localhost:8080/",
          "height": 364
        }
      },
      "source": [
        "import jieba.analyse\n",
        "\n",
        "# 數字越大越罕見\n",
        "url = 'https://github.com/fxsjy/jieba/blob/master/extra_dict/idf.txt.big'\n",
        "urlretrieve(url, 'idf.txt.big')\n",
        "jieba.analyse.set_idf_path('idf.txt.big')\n",
        "jieba.analyse.extract_tags(news)"
      ],
      "execution_count": null,
      "outputs": [
        {
          "output_type": "execute_result",
          "data": {
            "text/plain": [
              "['潰壩',\n",
              " '表示',\n",
              " '三峽大壩',\n",
              " '消息',\n",
              " '目前',\n",
              " '大壩',\n",
              " '應該',\n",
              " '之前',\n",
              " '傳出',\n",
              " '壩體',\n",
              " '公尺',\n",
              " '大陸',\n",
              " '其中',\n",
              " '學者',\n",
              " '超級',\n",
              " '安全',\n",
              " '問題',\n",
              " '還有',\n",
              " '水利系',\n",
              " '教授']"
            ]
          },
          "metadata": {
            "tags": []
          },
          "execution_count": 12
        }
      ]
    }
  ]
}