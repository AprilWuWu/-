{
  "nbformat": 4,
  "nbformat_minor": 0,
  "metadata": {
    "colab": {
      "name": "boston-regression(decision-tree).ipynb",
      "provenance": [],
      "collapsed_sections": [],
      "toc_visible": true,
      "include_colab_link": true
    },
    "kernelspec": {
      "name": "python3",
      "display_name": "Python 3"
    }
  },
  "cells": [
    {
      "cell_type": "markdown",
      "metadata": {
        "id": "view-in-github",
        "colab_type": "text"
      },
      "source": [
        "<a href=\"https://colab.research.google.com/github/AprilWuWu/AI-Portfolio/blob/main/boston_regression(decision_tree).ipynb\" target=\"_parent\"><img src=\"https://colab.research.google.com/assets/colab-badge.svg\" alt=\"Open In Colab\"/></a>"
      ]
    },
    {
      "cell_type": "code",
      "metadata": {
        "id": "JxdaQGnBtv1R",
        "outputId": "7c01bd6a-dce8-4ce9-bf4c-13de3df716c1",
        "colab": {
          "base_uri": "https://localhost:8080/",
          "height": 419
        }
      },
      "source": [
        "import pandas as pd\n",
        "from sklearn.datasets import load_boston\n",
        "boston = load_boston()\n",
        "# {'DESCR':'', 'data':[], 'feature_names':[], 'target':'答案'....}\n",
        "df = pd.DataFrame(boston['data'],\n",
        "                  columns=boston['feature_names'])\n",
        "\n",
        "df['answer'] = boston['target']\n",
        "df.to_csv('boston.csv', encoding='utf-8', index=False)\n",
        "df"
      ],
      "execution_count": null,
      "outputs": [
        {
          "output_type": "execute_result",
          "data": {
            "text/html": [
              "<div>\n",
              "<style scoped>\n",
              "    .dataframe tbody tr th:only-of-type {\n",
              "        vertical-align: middle;\n",
              "    }\n",
              "\n",
              "    .dataframe tbody tr th {\n",
              "        vertical-align: top;\n",
              "    }\n",
              "\n",
              "    .dataframe thead th {\n",
              "        text-align: right;\n",
              "    }\n",
              "</style>\n",
              "<table border=\"1\" class=\"dataframe\">\n",
              "  <thead>\n",
              "    <tr style=\"text-align: right;\">\n",
              "      <th></th>\n",
              "      <th>CRIM</th>\n",
              "      <th>ZN</th>\n",
              "      <th>INDUS</th>\n",
              "      <th>CHAS</th>\n",
              "      <th>NOX</th>\n",
              "      <th>RM</th>\n",
              "      <th>AGE</th>\n",
              "      <th>DIS</th>\n",
              "      <th>RAD</th>\n",
              "      <th>TAX</th>\n",
              "      <th>PTRATIO</th>\n",
              "      <th>B</th>\n",
              "      <th>LSTAT</th>\n",
              "      <th>answer</th>\n",
              "    </tr>\n",
              "  </thead>\n",
              "  <tbody>\n",
              "    <tr>\n",
              "      <th>0</th>\n",
              "      <td>0.00632</td>\n",
              "      <td>18.0</td>\n",
              "      <td>2.31</td>\n",
              "      <td>0.0</td>\n",
              "      <td>0.538</td>\n",
              "      <td>6.575</td>\n",
              "      <td>65.2</td>\n",
              "      <td>4.0900</td>\n",
              "      <td>1.0</td>\n",
              "      <td>296.0</td>\n",
              "      <td>15.3</td>\n",
              "      <td>396.90</td>\n",
              "      <td>4.98</td>\n",
              "      <td>24.0</td>\n",
              "    </tr>\n",
              "    <tr>\n",
              "      <th>1</th>\n",
              "      <td>0.02731</td>\n",
              "      <td>0.0</td>\n",
              "      <td>7.07</td>\n",
              "      <td>0.0</td>\n",
              "      <td>0.469</td>\n",
              "      <td>6.421</td>\n",
              "      <td>78.9</td>\n",
              "      <td>4.9671</td>\n",
              "      <td>2.0</td>\n",
              "      <td>242.0</td>\n",
              "      <td>17.8</td>\n",
              "      <td>396.90</td>\n",
              "      <td>9.14</td>\n",
              "      <td>21.6</td>\n",
              "    </tr>\n",
              "    <tr>\n",
              "      <th>2</th>\n",
              "      <td>0.02729</td>\n",
              "      <td>0.0</td>\n",
              "      <td>7.07</td>\n",
              "      <td>0.0</td>\n",
              "      <td>0.469</td>\n",
              "      <td>7.185</td>\n",
              "      <td>61.1</td>\n",
              "      <td>4.9671</td>\n",
              "      <td>2.0</td>\n",
              "      <td>242.0</td>\n",
              "      <td>17.8</td>\n",
              "      <td>392.83</td>\n",
              "      <td>4.03</td>\n",
              "      <td>34.7</td>\n",
              "    </tr>\n",
              "    <tr>\n",
              "      <th>3</th>\n",
              "      <td>0.03237</td>\n",
              "      <td>0.0</td>\n",
              "      <td>2.18</td>\n",
              "      <td>0.0</td>\n",
              "      <td>0.458</td>\n",
              "      <td>6.998</td>\n",
              "      <td>45.8</td>\n",
              "      <td>6.0622</td>\n",
              "      <td>3.0</td>\n",
              "      <td>222.0</td>\n",
              "      <td>18.7</td>\n",
              "      <td>394.63</td>\n",
              "      <td>2.94</td>\n",
              "      <td>33.4</td>\n",
              "    </tr>\n",
              "    <tr>\n",
              "      <th>4</th>\n",
              "      <td>0.06905</td>\n",
              "      <td>0.0</td>\n",
              "      <td>2.18</td>\n",
              "      <td>0.0</td>\n",
              "      <td>0.458</td>\n",
              "      <td>7.147</td>\n",
              "      <td>54.2</td>\n",
              "      <td>6.0622</td>\n",
              "      <td>3.0</td>\n",
              "      <td>222.0</td>\n",
              "      <td>18.7</td>\n",
              "      <td>396.90</td>\n",
              "      <td>5.33</td>\n",
              "      <td>36.2</td>\n",
              "    </tr>\n",
              "    <tr>\n",
              "      <th>...</th>\n",
              "      <td>...</td>\n",
              "      <td>...</td>\n",
              "      <td>...</td>\n",
              "      <td>...</td>\n",
              "      <td>...</td>\n",
              "      <td>...</td>\n",
              "      <td>...</td>\n",
              "      <td>...</td>\n",
              "      <td>...</td>\n",
              "      <td>...</td>\n",
              "      <td>...</td>\n",
              "      <td>...</td>\n",
              "      <td>...</td>\n",
              "      <td>...</td>\n",
              "    </tr>\n",
              "    <tr>\n",
              "      <th>501</th>\n",
              "      <td>0.06263</td>\n",
              "      <td>0.0</td>\n",
              "      <td>11.93</td>\n",
              "      <td>0.0</td>\n",
              "      <td>0.573</td>\n",
              "      <td>6.593</td>\n",
              "      <td>69.1</td>\n",
              "      <td>2.4786</td>\n",
              "      <td>1.0</td>\n",
              "      <td>273.0</td>\n",
              "      <td>21.0</td>\n",
              "      <td>391.99</td>\n",
              "      <td>9.67</td>\n",
              "      <td>22.4</td>\n",
              "    </tr>\n",
              "    <tr>\n",
              "      <th>502</th>\n",
              "      <td>0.04527</td>\n",
              "      <td>0.0</td>\n",
              "      <td>11.93</td>\n",
              "      <td>0.0</td>\n",
              "      <td>0.573</td>\n",
              "      <td>6.120</td>\n",
              "      <td>76.7</td>\n",
              "      <td>2.2875</td>\n",
              "      <td>1.0</td>\n",
              "      <td>273.0</td>\n",
              "      <td>21.0</td>\n",
              "      <td>396.90</td>\n",
              "      <td>9.08</td>\n",
              "      <td>20.6</td>\n",
              "    </tr>\n",
              "    <tr>\n",
              "      <th>503</th>\n",
              "      <td>0.06076</td>\n",
              "      <td>0.0</td>\n",
              "      <td>11.93</td>\n",
              "      <td>0.0</td>\n",
              "      <td>0.573</td>\n",
              "      <td>6.976</td>\n",
              "      <td>91.0</td>\n",
              "      <td>2.1675</td>\n",
              "      <td>1.0</td>\n",
              "      <td>273.0</td>\n",
              "      <td>21.0</td>\n",
              "      <td>396.90</td>\n",
              "      <td>5.64</td>\n",
              "      <td>23.9</td>\n",
              "    </tr>\n",
              "    <tr>\n",
              "      <th>504</th>\n",
              "      <td>0.10959</td>\n",
              "      <td>0.0</td>\n",
              "      <td>11.93</td>\n",
              "      <td>0.0</td>\n",
              "      <td>0.573</td>\n",
              "      <td>6.794</td>\n",
              "      <td>89.3</td>\n",
              "      <td>2.3889</td>\n",
              "      <td>1.0</td>\n",
              "      <td>273.0</td>\n",
              "      <td>21.0</td>\n",
              "      <td>393.45</td>\n",
              "      <td>6.48</td>\n",
              "      <td>22.0</td>\n",
              "    </tr>\n",
              "    <tr>\n",
              "      <th>505</th>\n",
              "      <td>0.04741</td>\n",
              "      <td>0.0</td>\n",
              "      <td>11.93</td>\n",
              "      <td>0.0</td>\n",
              "      <td>0.573</td>\n",
              "      <td>6.030</td>\n",
              "      <td>80.8</td>\n",
              "      <td>2.5050</td>\n",
              "      <td>1.0</td>\n",
              "      <td>273.0</td>\n",
              "      <td>21.0</td>\n",
              "      <td>396.90</td>\n",
              "      <td>7.88</td>\n",
              "      <td>11.9</td>\n",
              "    </tr>\n",
              "  </tbody>\n",
              "</table>\n",
              "<p>506 rows × 14 columns</p>\n",
              "</div>"
            ],
            "text/plain": [
              "        CRIM    ZN  INDUS  CHAS    NOX  ...    TAX  PTRATIO       B  LSTAT  answer\n",
              "0    0.00632  18.0   2.31   0.0  0.538  ...  296.0     15.3  396.90   4.98    24.0\n",
              "1    0.02731   0.0   7.07   0.0  0.469  ...  242.0     17.8  396.90   9.14    21.6\n",
              "2    0.02729   0.0   7.07   0.0  0.469  ...  242.0     17.8  392.83   4.03    34.7\n",
              "3    0.03237   0.0   2.18   0.0  0.458  ...  222.0     18.7  394.63   2.94    33.4\n",
              "4    0.06905   0.0   2.18   0.0  0.458  ...  222.0     18.7  396.90   5.33    36.2\n",
              "..       ...   ...    ...   ...    ...  ...    ...      ...     ...    ...     ...\n",
              "501  0.06263   0.0  11.93   0.0  0.573  ...  273.0     21.0  391.99   9.67    22.4\n",
              "502  0.04527   0.0  11.93   0.0  0.573  ...  273.0     21.0  396.90   9.08    20.6\n",
              "503  0.06076   0.0  11.93   0.0  0.573  ...  273.0     21.0  396.90   5.64    23.9\n",
              "504  0.10959   0.0  11.93   0.0  0.573  ...  273.0     21.0  393.45   6.48    22.0\n",
              "505  0.04741   0.0  11.93   0.0  0.573  ...  273.0     21.0  396.90   7.88    11.9\n",
              "\n",
              "[506 rows x 14 columns]"
            ]
          },
          "metadata": {
            "tags": []
          },
          "execution_count": 1
        }
      ]
    },
    {
      "cell_type": "markdown",
      "metadata": {
        "id": "kf3v-kA0t2Jz"
      },
      "source": [
        "\n",
        "Open In Colab\n",
        "CRIM：人均犯罪率\n",
        "\n",
        "ZN：25,000平方英尺以上民用土地的比例\n",
        "\n",
        "INDUS：城镇非零售业商用土地比例\n",
        "\n",
        "CHAS：是否邻近查尔斯河，1是邻近，0是不邻近\n",
        "\n",
        "NOX：一氧化氮浓度（千万分之一）\n",
        "\n",
        "RM：住宅的平均房间数\n",
        "\n",
        "AGE：自住且建于1940年前的房屋比例\n",
        "\n",
        "DIS：到5个波士顿就业中心的加权距离\n",
        "\n",
        "RAD：到高速公路的便捷度指数\n",
        "\n",
        "TAX：每万元的房产税率\n",
        "\n",
        "PTRATIO：城镇学生教师比例\n",
        "\n",
        "B： 1000(Bk − 0.63)2 其中Bk是城镇中黑人比例\n",
        "\n",
        "LSTAT：低收入人群比例\n",
        "\n",
        "ans：自住房中位数价格，单位是千元\n"
      ]
    },
    {
      "cell_type": "code",
      "metadata": {
        "id": "Oo-KN1z6Ofco"
      },
      "source": [
        "# 驗證用的會放這\n",
        "from sklearn.model_selection import train_test_split \n",
        "# [90% data, 10% data, 90% target, 10% target]\n",
        "train_test_split([1, 2, 3, 4],\n",
        "                 [5, 6, 7, 8],\n",
        "                 [9, 10, 11, 12],\n",
        "                 test_size=0.25)\n",
        "\n",
        "x_train, x_test, y_train, y_test = train_test_split(boston['data'],\n",
        "                                                    boston['target'],\n",
        "                                                    test_size=0.1)"
      ],
      "execution_count": null,
      "outputs": []
    },
    {
      "cell_type": "code",
      "metadata": {
        "id": "O9LjCFijSlSA",
        "outputId": "d4029957-0195-430e-a23f-684b5aeddaec",
        "colab": {
          "base_uri": "https://localhost:8080/",
          "height": 119
        }
      },
      "source": [
        "# 演算法\n",
        "from sklearn.tree import DecisionTreeRegressor\n",
        "# 參數看不出來，後面條\n",
        "# random_state在MSE一樣的時候不要隨機選，避免無法比較\n",
        "reg = DecisionTreeRegressor(max_depth=7, random_state=0)\n",
        "\n",
        "# fit 訓練\n",
        "reg.fit(x_train, y_train)"
      ],
      "execution_count": null,
      "outputs": [
        {
          "output_type": "execute_result",
          "data": {
            "text/plain": [
              "DecisionTreeRegressor(ccp_alpha=0.0, criterion='mse', max_depth=7,\n",
              "                      max_features=None, max_leaf_nodes=None,\n",
              "                      min_impurity_decrease=0.0, min_impurity_split=None,\n",
              "                      min_samples_leaf=1, min_samples_split=2,\n",
              "                      min_weight_fraction_leaf=0.0, presort='deprecated',\n",
              "                      random_state=0, splitter='best')"
            ]
          },
          "metadata": {
            "tags": []
          },
          "execution_count": 40
        }
      ]
    },
    {
      "cell_type": "code",
      "metadata": {
        "id": "JFlAoAP3T2Rh",
        "outputId": "c03cb7b1-d650-4cc9-d31a-b1739932e07a",
        "colab": {
          "base_uri": "https://localhost:8080/",
          "height": 634
        }
      },
      "source": [
        "import graphviz\n",
        "from sklearn.tree import export_graphviz\n",
        "# API https://scikit-learn.org/stable/modules/generated/sklearn.tree.export_graphviz.html\n",
        "\n",
        "g = export_graphviz(reg, \n",
        "                    feature_names=boston['feature_names'], \n",
        "                    filled=True,\n",
        "                    max_depth=3)\n",
        "\n",
        "graphviz.Source(g)"
      ],
      "execution_count": null,
      "outputs": [
        {
          "output_type": "execute_result",
          "data": {
            "text/plain": [
              "<graphviz.files.Source at 0x7fa23bed82e8>"
            ],
            "image/svg+xml": "<?xml version=\"1.0\" encoding=\"UTF-8\" standalone=\"no\"?>\n<!DOCTYPE svg PUBLIC \"-//W3C//DTD SVG 1.1//EN\"\n \"http://www.w3.org/Graphics/SVG/1.1/DTD/svg11.dtd\">\n<!-- Generated by graphviz version 2.40.1 (20161225.0304)\n -->\n<!-- Title: Tree Pages: 1 -->\n<svg width=\"1062pt\" height=\"460pt\"\n viewBox=\"0.00 0.00 1061.50 460.00\" xmlns=\"http://www.w3.org/2000/svg\" xmlns:xlink=\"http://www.w3.org/1999/xlink\">\n<g id=\"graph0\" class=\"graph\" transform=\"scale(1 1) rotate(0) translate(4 456)\">\n<title>Tree</title>\n<polygon fill=\"#ffffff\" stroke=\"transparent\" points=\"-4,4 -4,-456 1057.5,-456 1057.5,4 -4,4\"/>\n<!-- 0 -->\n<g id=\"node1\" class=\"node\">\n<title>0</title>\n<polygon fill=\"#f6d3b9\" stroke=\"#000000\" points=\"615,-452 511,-452 511,-384 615,-384 615,-452\"/>\n<text text-anchor=\"middle\" x=\"563\" y=\"-436.8\" font-family=\"Times,serif\" font-size=\"14.00\" fill=\"#000000\">RM &lt;= 6.941</text>\n<text text-anchor=\"middle\" x=\"563\" y=\"-421.8\" font-family=\"Times,serif\" font-size=\"14.00\" fill=\"#000000\">mse = 82.284</text>\n<text text-anchor=\"middle\" x=\"563\" y=\"-406.8\" font-family=\"Times,serif\" font-size=\"14.00\" fill=\"#000000\">samples = 455</text>\n<text text-anchor=\"middle\" x=\"563\" y=\"-391.8\" font-family=\"Times,serif\" font-size=\"14.00\" fill=\"#000000\">value = 22.469</text>\n</g>\n<!-- 1 -->\n<g id=\"node2\" class=\"node\">\n<title>1</title>\n<polygon fill=\"#f7dac5\" stroke=\"#000000\" points=\"484,-348 374,-348 374,-280 484,-280 484,-348\"/>\n<text text-anchor=\"middle\" x=\"429\" y=\"-332.8\" font-family=\"Times,serif\" font-size=\"14.00\" fill=\"#000000\">LSTAT &lt;= 14.4</text>\n<text text-anchor=\"middle\" x=\"429\" y=\"-317.8\" font-family=\"Times,serif\" font-size=\"14.00\" fill=\"#000000\">mse = 38.564</text>\n<text text-anchor=\"middle\" x=\"429\" y=\"-302.8\" font-family=\"Times,serif\" font-size=\"14.00\" fill=\"#000000\">samples = 390</text>\n<text text-anchor=\"middle\" x=\"429\" y=\"-287.8\" font-family=\"Times,serif\" font-size=\"14.00\" fill=\"#000000\">value = 19.932</text>\n</g>\n<!-- 0&#45;&gt;1 -->\n<g id=\"edge1\" class=\"edge\">\n<title>0&#45;&gt;1</title>\n<path fill=\"none\" stroke=\"#000000\" d=\"M519.1234,-383.9465C506.9765,-374.519 493.6738,-364.1946 481.1073,-354.4415\"/>\n<polygon fill=\"#000000\" stroke=\"#000000\" points=\"483.021,-351.4963 472.9752,-348.13 478.7291,-357.0262 483.021,-351.4963\"/>\n<text text-anchor=\"middle\" x=\"476.1017\" y=\"-369.2337\" font-family=\"Times,serif\" font-size=\"14.00\" fill=\"#000000\">True</text>\n</g>\n<!-- 90 -->\n<g id=\"node17\" class=\"node\">\n<title>90</title>\n<polygon fill=\"#eda572\" stroke=\"#000000\" points=\"744,-348 640,-348 640,-280 744,-280 744,-348\"/>\n<text text-anchor=\"middle\" x=\"692\" y=\"-332.8\" font-family=\"Times,serif\" font-size=\"14.00\" fill=\"#000000\">RM &lt;= 7.437</text>\n<text text-anchor=\"middle\" x=\"692\" y=\"-317.8\" font-family=\"Times,serif\" font-size=\"14.00\" fill=\"#000000\">mse = 74.271</text>\n<text text-anchor=\"middle\" x=\"692\" y=\"-302.8\" font-family=\"Times,serif\" font-size=\"14.00\" fill=\"#000000\">samples = 65</text>\n<text text-anchor=\"middle\" x=\"692\" y=\"-287.8\" font-family=\"Times,serif\" font-size=\"14.00\" fill=\"#000000\">value = 37.691</text>\n</g>\n<!-- 0&#45;&gt;90 -->\n<g id=\"edge16\" class=\"edge\">\n<title>0&#45;&gt;90</title>\n<path fill=\"none\" stroke=\"#000000\" d=\"M605.2394,-383.9465C616.9331,-374.519 629.7394,-364.1946 641.837,-354.4415\"/>\n<polygon fill=\"#000000\" stroke=\"#000000\" points=\"644.0773,-357.1312 649.6657,-348.13 639.6838,-351.6816 644.0773,-357.1312\"/>\n<text text-anchor=\"middle\" x=\"646.9986\" y=\"-369.2873\" font-family=\"Times,serif\" font-size=\"14.00\" fill=\"#000000\">False</text>\n</g>\n<!-- 2 -->\n<g id=\"node3\" class=\"node\">\n<title>2</title>\n<polygon fill=\"#f5d0b5\" stroke=\"#000000\" points=\"288,-244 184,-244 184,-176 288,-176 288,-244\"/>\n<text text-anchor=\"middle\" x=\"236\" y=\"-228.8\" font-family=\"Times,serif\" font-size=\"14.00\" fill=\"#000000\">DIS &lt;= 1.385</text>\n<text text-anchor=\"middle\" x=\"236\" y=\"-213.8\" font-family=\"Times,serif\" font-size=\"14.00\" fill=\"#000000\">mse = 23.64</text>\n<text text-anchor=\"middle\" x=\"236\" y=\"-198.8\" font-family=\"Times,serif\" font-size=\"14.00\" fill=\"#000000\">samples = 234</text>\n<text text-anchor=\"middle\" x=\"236\" y=\"-183.8\" font-family=\"Times,serif\" font-size=\"14.00\" fill=\"#000000\">value = 23.274</text>\n</g>\n<!-- 1&#45;&gt;2 -->\n<g id=\"edge2\" class=\"edge\">\n<title>1&#45;&gt;2</title>\n<path fill=\"none\" stroke=\"#000000\" d=\"M373.9522,-284.337C349.9384,-271.3968 321.6962,-256.1782 297.0409,-242.8925\"/>\n<polygon fill=\"#000000\" stroke=\"#000000\" points=\"298.5978,-239.7557 288.1342,-238.093 295.2771,-245.9179 298.5978,-239.7557\"/>\n</g>\n<!-- 35 -->\n<g id=\"node10\" class=\"node\">\n<title>35</title>\n<polygon fill=\"#fae9dc\" stroke=\"#000000\" points=\"482,-244 376,-244 376,-176 482,-176 482,-244\"/>\n<text text-anchor=\"middle\" x=\"429\" y=\"-228.8\" font-family=\"Times,serif\" font-size=\"14.00\" fill=\"#000000\">NOX &lt;= 0.607</text>\n<text text-anchor=\"middle\" x=\"429\" y=\"-213.8\" font-family=\"Times,serif\" font-size=\"14.00\" fill=\"#000000\">mse = 19.045</text>\n<text text-anchor=\"middle\" x=\"429\" y=\"-198.8\" font-family=\"Times,serif\" font-size=\"14.00\" fill=\"#000000\">samples = 156</text>\n<text text-anchor=\"middle\" x=\"429\" y=\"-183.8\" font-family=\"Times,serif\" font-size=\"14.00\" fill=\"#000000\">value = 14.917</text>\n</g>\n<!-- 1&#45;&gt;35 -->\n<g id=\"edge9\" class=\"edge\">\n<title>1&#45;&gt;35</title>\n<path fill=\"none\" stroke=\"#000000\" d=\"M429,-279.9465C429,-271.776 429,-262.9318 429,-254.3697\"/>\n<polygon fill=\"#000000\" stroke=\"#000000\" points=\"432.5001,-254.13 429,-244.13 425.5001,-254.13 432.5001,-254.13\"/>\n</g>\n<!-- 3 -->\n<g id=\"node4\" class=\"node\">\n<title>3</title>\n<polygon fill=\"#e89153\" stroke=\"#000000\" points=\"158,-140 40,-140 40,-72 158,-72 158,-140\"/>\n<text text-anchor=\"middle\" x=\"99\" y=\"-124.8\" font-family=\"Times,serif\" font-size=\"14.00\" fill=\"#000000\">LSTAT &lt;= 10.83</text>\n<text text-anchor=\"middle\" x=\"99\" y=\"-109.8\" font-family=\"Times,serif\" font-size=\"14.00\" fill=\"#000000\">mse = 91.577</text>\n<text text-anchor=\"middle\" x=\"99\" y=\"-94.8\" font-family=\"Times,serif\" font-size=\"14.00\" fill=\"#000000\">samples = 4</text>\n<text text-anchor=\"middle\" x=\"99\" y=\"-79.8\" font-family=\"Times,serif\" font-size=\"14.00\" fill=\"#000000\">value = 44.475</text>\n</g>\n<!-- 2&#45;&gt;3 -->\n<g id=\"edge3\" class=\"edge\">\n<title>2&#45;&gt;3</title>\n<path fill=\"none\" stroke=\"#000000\" d=\"M191.1411,-175.9465C178.7222,-166.519 165.1217,-156.1946 152.2739,-146.4415\"/>\n<polygon fill=\"#000000\" stroke=\"#000000\" points=\"154.041,-143.3887 143.9597,-140.13 149.8085,-148.9642 154.041,-143.3887\"/>\n</g>\n<!-- 6 -->\n<g id=\"node7\" class=\"node\">\n<title>6</title>\n<polygon fill=\"#f6d1b7\" stroke=\"#000000\" points=\"288,-140 184,-140 184,-72 288,-72 288,-140\"/>\n<text text-anchor=\"middle\" x=\"236\" y=\"-124.8\" font-family=\"Times,serif\" font-size=\"14.00\" fill=\"#000000\">RM &lt;= 6.543</text>\n<text text-anchor=\"middle\" x=\"236\" y=\"-109.8\" font-family=\"Times,serif\" font-size=\"14.00\" fill=\"#000000\">mse = 14.506</text>\n<text text-anchor=\"middle\" x=\"236\" y=\"-94.8\" font-family=\"Times,serif\" font-size=\"14.00\" fill=\"#000000\">samples = 230</text>\n<text text-anchor=\"middle\" x=\"236\" y=\"-79.8\" font-family=\"Times,serif\" font-size=\"14.00\" fill=\"#000000\">value = 22.906</text>\n</g>\n<!-- 2&#45;&gt;6 -->\n<g id=\"edge6\" class=\"edge\">\n<title>2&#45;&gt;6</title>\n<path fill=\"none\" stroke=\"#000000\" d=\"M236,-175.9465C236,-167.776 236,-158.9318 236,-150.3697\"/>\n<polygon fill=\"#000000\" stroke=\"#000000\" points=\"239.5001,-150.13 236,-140.13 232.5001,-150.13 239.5001,-150.13\"/>\n</g>\n<!-- 4 -->\n<g id=\"node5\" class=\"node\">\n<title>4</title>\n<polygon fill=\"#c0c0c0\" stroke=\"#000000\" points=\"54,-36 0,-36 0,0 54,0 54,-36\"/>\n<text text-anchor=\"middle\" x=\"27\" y=\"-14.3\" font-family=\"Times,serif\" font-size=\"14.00\" fill=\"#000000\">(...)</text>\n</g>\n<!-- 3&#45;&gt;4 -->\n<g id=\"edge4\" class=\"edge\">\n<title>3&#45;&gt;4</title>\n<path fill=\"none\" stroke=\"#000000\" d=\"M71.1629,-71.9769C63.6059,-62.7406 55.5424,-52.8851 48.4014,-44.1573\"/>\n<polygon fill=\"#000000\" stroke=\"#000000\" points=\"50.9256,-41.7152 41.8843,-36.192 45.5079,-46.1479 50.9256,-41.7152\"/>\n</g>\n<!-- 5 -->\n<g id=\"node6\" class=\"node\">\n<title>5</title>\n<polygon fill=\"#c0c0c0\" stroke=\"#000000\" points=\"126,-36 72,-36 72,0 126,0 126,-36\"/>\n<text text-anchor=\"middle\" x=\"99\" y=\"-14.3\" font-family=\"Times,serif\" font-size=\"14.00\" fill=\"#000000\">(...)</text>\n</g>\n<!-- 3&#45;&gt;5 -->\n<g id=\"edge5\" class=\"edge\">\n<title>3&#45;&gt;5</title>\n<path fill=\"none\" stroke=\"#000000\" d=\"M99,-71.9769C99,-63.5023 99,-54.5065 99,-46.3388\"/>\n<polygon fill=\"#000000\" stroke=\"#000000\" points=\"102.5001,-46.1919 99,-36.192 95.5001,-46.192 102.5001,-46.1919\"/>\n</g>\n<!-- 7 -->\n<g id=\"node8\" class=\"node\">\n<title>7</title>\n<polygon fill=\"#c0c0c0\" stroke=\"#000000\" points=\"198,-36 144,-36 144,0 198,0 198,-36\"/>\n<text text-anchor=\"middle\" x=\"171\" y=\"-14.3\" font-family=\"Times,serif\" font-size=\"14.00\" fill=\"#000000\">(...)</text>\n</g>\n<!-- 6&#45;&gt;7 -->\n<g id=\"edge7\" class=\"edge\">\n<title>6&#45;&gt;7</title>\n<path fill=\"none\" stroke=\"#000000\" d=\"M210.8693,-71.9769C204.1174,-62.8358 196.9175,-53.0883 190.5204,-44.4276\"/>\n<polygon fill=\"#000000\" stroke=\"#000000\" points=\"193.1939,-42.1561 184.4372,-36.192 187.5633,-46.3151 193.1939,-42.1561\"/>\n</g>\n<!-- 22 -->\n<g id=\"node9\" class=\"node\">\n<title>22</title>\n<polygon fill=\"#c0c0c0\" stroke=\"#000000\" points=\"270,-36 216,-36 216,0 270,0 270,-36\"/>\n<text text-anchor=\"middle\" x=\"243\" y=\"-14.3\" font-family=\"Times,serif\" font-size=\"14.00\" fill=\"#000000\">(...)</text>\n</g>\n<!-- 6&#45;&gt;22 -->\n<g id=\"edge8\" class=\"edge\">\n<title>6&#45;&gt;22</title>\n<path fill=\"none\" stroke=\"#000000\" d=\"M238.7064,-71.9769C239.3805,-63.5023 240.0961,-54.5065 240.7458,-46.3388\"/>\n<polygon fill=\"#000000\" stroke=\"#000000\" points=\"244.2489,-46.438 241.5529,-36.192 237.2709,-45.8829 244.2489,-46.438\"/>\n</g>\n<!-- 36 -->\n<g id=\"node11\" class=\"node\">\n<title>36</title>\n<polygon fill=\"#f9e0ce\" stroke=\"#000000\" points=\"417.5,-140 306.5,-140 306.5,-72 417.5,-72 417.5,-140\"/>\n<text text-anchor=\"middle\" x=\"362\" y=\"-124.8\" font-family=\"Times,serif\" font-size=\"14.00\" fill=\"#000000\">CRIM &lt;= 0.554</text>\n<text text-anchor=\"middle\" x=\"362\" y=\"-109.8\" font-family=\"Times,serif\" font-size=\"14.00\" fill=\"#000000\">mse = 12.178</text>\n<text text-anchor=\"middle\" x=\"362\" y=\"-94.8\" font-family=\"Times,serif\" font-size=\"14.00\" fill=\"#000000\">samples = 60</text>\n<text text-anchor=\"middle\" x=\"362\" y=\"-79.8\" font-family=\"Times,serif\" font-size=\"14.00\" fill=\"#000000\">value = 18.052</text>\n</g>\n<!-- 35&#45;&gt;36 -->\n<g id=\"edge10\" class=\"edge\">\n<title>35&#45;&gt;36</title>\n<path fill=\"none\" stroke=\"#000000\" d=\"M407.0617,-175.9465C401.451,-167.2373 395.3471,-157.7626 389.4958,-148.6801\"/>\n<polygon fill=\"#000000\" stroke=\"#000000\" points=\"392.3457,-146.641 383.9876,-140.13 386.4611,-150.4321 392.3457,-146.641\"/>\n</g>\n<!-- 61 -->\n<g id=\"node14\" class=\"node\">\n<title>61</title>\n<polygon fill=\"#fcefe5\" stroke=\"#000000\" points=\"560.5,-140 435.5,-140 435.5,-72 560.5,-72 560.5,-140\"/>\n<text text-anchor=\"middle\" x=\"498\" y=\"-124.8\" font-family=\"Times,serif\" font-size=\"14.00\" fill=\"#000000\">LSTAT &lt;= 19.645</text>\n<text text-anchor=\"middle\" x=\"498\" y=\"-109.8\" font-family=\"Times,serif\" font-size=\"14.00\" fill=\"#000000\">mse = 13.36</text>\n<text text-anchor=\"middle\" x=\"498\" y=\"-94.8\" font-family=\"Times,serif\" font-size=\"14.00\" fill=\"#000000\">samples = 96</text>\n<text text-anchor=\"middle\" x=\"498\" y=\"-79.8\" font-family=\"Times,serif\" font-size=\"14.00\" fill=\"#000000\">value = 12.958</text>\n</g>\n<!-- 35&#45;&gt;61 -->\n<g id=\"edge13\" class=\"edge\">\n<title>35&#45;&gt;61</title>\n<path fill=\"none\" stroke=\"#000000\" d=\"M451.5932,-175.9465C457.3714,-167.2373 463.6575,-157.7626 469.6834,-148.6801\"/>\n<polygon fill=\"#000000\" stroke=\"#000000\" points=\"472.744,-150.3978 475.3561,-140.13 466.911,-146.5278 472.744,-150.3978\"/>\n</g>\n<!-- 37 -->\n<g id=\"node12\" class=\"node\">\n<title>37</title>\n<polygon fill=\"#c0c0c0\" stroke=\"#000000\" points=\"342,-36 288,-36 288,0 342,0 342,-36\"/>\n<text text-anchor=\"middle\" x=\"315\" y=\"-14.3\" font-family=\"Times,serif\" font-size=\"14.00\" fill=\"#000000\">(...)</text>\n</g>\n<!-- 36&#45;&gt;37 -->\n<g id=\"edge11\" class=\"edge\">\n<title>36&#45;&gt;37</title>\n<path fill=\"none\" stroke=\"#000000\" d=\"M343.8286,-71.9769C339.099,-63.1215 334.0654,-53.6969 329.5501,-45.2427\"/>\n<polygon fill=\"#000000\" stroke=\"#000000\" points=\"332.5146,-43.3638 324.7162,-36.192 326.34,-46.6616 332.5146,-43.3638\"/>\n</g>\n<!-- 52 -->\n<g id=\"node13\" class=\"node\">\n<title>52</title>\n<polygon fill=\"#c0c0c0\" stroke=\"#000000\" points=\"414,-36 360,-36 360,0 414,0 414,-36\"/>\n<text text-anchor=\"middle\" x=\"387\" y=\"-14.3\" font-family=\"Times,serif\" font-size=\"14.00\" fill=\"#000000\">(...)</text>\n</g>\n<!-- 36&#45;&gt;52 -->\n<g id=\"edge12\" class=\"edge\">\n<title>36&#45;&gt;52</title>\n<path fill=\"none\" stroke=\"#000000\" d=\"M371.6657,-71.9769C374.1002,-63.4071 376.6863,-54.3043 379.0273,-46.0638\"/>\n<polygon fill=\"#000000\" stroke=\"#000000\" points=\"382.4658,-46.7678 381.8318,-36.192 375.7322,-44.8548 382.4658,-46.7678\"/>\n</g>\n<!-- 62 -->\n<g id=\"node15\" class=\"node\">\n<title>62</title>\n<polygon fill=\"#c0c0c0\" stroke=\"#000000\" points=\"486,-36 432,-36 432,0 486,0 486,-36\"/>\n<text text-anchor=\"middle\" x=\"459\" y=\"-14.3\" font-family=\"Times,serif\" font-size=\"14.00\" fill=\"#000000\">(...)</text>\n</g>\n<!-- 61&#45;&gt;62 -->\n<g id=\"edge14\" class=\"edge\">\n<title>61&#45;&gt;62</title>\n<path fill=\"none\" stroke=\"#000000\" d=\"M482.9216,-71.9769C479.0392,-63.2167 474.91,-53.8995 471.1945,-45.5157\"/>\n<polygon fill=\"#000000\" stroke=\"#000000\" points=\"474.314,-43.9162 467.0623,-36.192 467.9143,-46.7525 474.314,-43.9162\"/>\n</g>\n<!-- 77 -->\n<g id=\"node16\" class=\"node\">\n<title>77</title>\n<polygon fill=\"#c0c0c0\" stroke=\"#000000\" points=\"558,-36 504,-36 504,0 558,0 558,-36\"/>\n<text text-anchor=\"middle\" x=\"531\" y=\"-14.3\" font-family=\"Times,serif\" font-size=\"14.00\" fill=\"#000000\">(...)</text>\n</g>\n<!-- 61&#45;&gt;77 -->\n<g id=\"edge15\" class=\"edge\">\n<title>61&#45;&gt;77</title>\n<path fill=\"none\" stroke=\"#000000\" d=\"M510.7587,-71.9769C514.008,-63.3119 517.4618,-54.102 520.579,-45.7894\"/>\n<polygon fill=\"#000000\" stroke=\"#000000\" points=\"523.9439,-46.7842 524.178,-36.192 517.3896,-44.3263 523.9439,-46.7842\"/>\n</g>\n<!-- 91 -->\n<g id=\"node18\" class=\"node\">\n<title>91</title>\n<polygon fill=\"#f0b48a\" stroke=\"#000000\" points=\"745,-244 639,-244 639,-176 745,-176 745,-244\"/>\n<text text-anchor=\"middle\" x=\"692\" y=\"-228.8\" font-family=\"Times,serif\" font-size=\"14.00\" fill=\"#000000\">NOX &lt;= 0.659</text>\n<text text-anchor=\"middle\" x=\"692\" y=\"-213.8\" font-family=\"Times,serif\" font-size=\"14.00\" fill=\"#000000\">mse = 39.262</text>\n<text text-anchor=\"middle\" x=\"692\" y=\"-198.8\" font-family=\"Times,serif\" font-size=\"14.00\" fill=\"#000000\">samples = 38</text>\n<text text-anchor=\"middle\" x=\"692\" y=\"-183.8\" font-family=\"Times,serif\" font-size=\"14.00\" fill=\"#000000\">value = 32.697</text>\n</g>\n<!-- 90&#45;&gt;91 -->\n<g id=\"edge17\" class=\"edge\">\n<title>90&#45;&gt;91</title>\n<path fill=\"none\" stroke=\"#000000\" d=\"M692,-279.9465C692,-271.776 692,-262.9318 692,-254.3697\"/>\n<polygon fill=\"#000000\" stroke=\"#000000\" points=\"695.5001,-254.13 692,-244.13 688.5001,-254.13 695.5001,-254.13\"/>\n</g>\n<!-- 112 -->\n<g id=\"node25\" class=\"node\">\n<title>112</title>\n<polygon fill=\"#e89152\" stroke=\"#000000\" points=\"943,-244 839,-244 839,-176 943,-176 943,-244\"/>\n<text text-anchor=\"middle\" x=\"891\" y=\"-228.8\" font-family=\"Times,serif\" font-size=\"14.00\" fill=\"#000000\">TAX &lt;= 534.5</text>\n<text text-anchor=\"middle\" x=\"891\" y=\"-213.8\" font-family=\"Times,serif\" font-size=\"14.00\" fill=\"#000000\">mse = 39.062</text>\n<text text-anchor=\"middle\" x=\"891\" y=\"-198.8\" font-family=\"Times,serif\" font-size=\"14.00\" fill=\"#000000\">samples = 27</text>\n<text text-anchor=\"middle\" x=\"891\" y=\"-183.8\" font-family=\"Times,serif\" font-size=\"14.00\" fill=\"#000000\">value = 44.719</text>\n</g>\n<!-- 90&#45;&gt;112 -->\n<g id=\"edge24\" class=\"edge\">\n<title>90&#45;&gt;112</title>\n<path fill=\"none\" stroke=\"#000000\" d=\"M744.025,-286.8111C770.3048,-273.0769 802.3559,-256.3266 829.813,-241.9771\"/>\n<polygon fill=\"#000000\" stroke=\"#000000\" points=\"831.6919,-244.9444 838.9334,-237.2107 828.4496,-238.7405 831.6919,-244.9444\"/>\n</g>\n<!-- 92 -->\n<g id=\"node19\" class=\"node\">\n<title>92</title>\n<polygon fill=\"#efb185\" stroke=\"#000000\" points=\"683,-140 579,-140 579,-72 683,-72 683,-140\"/>\n<text text-anchor=\"middle\" x=\"631\" y=\"-124.8\" font-family=\"Times,serif\" font-size=\"14.00\" fill=\"#000000\">DIS &lt;= 1.886</text>\n<text text-anchor=\"middle\" x=\"631\" y=\"-109.8\" font-family=\"Times,serif\" font-size=\"14.00\" fill=\"#000000\">mse = 20.4</text>\n<text text-anchor=\"middle\" x=\"631\" y=\"-94.8\" font-family=\"Times,serif\" font-size=\"14.00\" fill=\"#000000\">samples = 36</text>\n<text text-anchor=\"middle\" x=\"631\" y=\"-79.8\" font-family=\"Times,serif\" font-size=\"14.00\" fill=\"#000000\">value = 33.731</text>\n</g>\n<!-- 91&#45;&gt;92 -->\n<g id=\"edge18\" class=\"edge\">\n<title>91&#45;&gt;92</title>\n<path fill=\"none\" stroke=\"#000000\" d=\"M672.0263,-175.9465C666.9707,-167.3271 661.4753,-157.9579 656.1983,-148.9611\"/>\n<polygon fill=\"#000000\" stroke=\"#000000\" points=\"659.0969,-146.985 651.0186,-140.13 653.0589,-150.5265 659.0969,-146.985\"/>\n</g>\n<!-- 109 -->\n<g id=\"node22\" class=\"node\">\n<title>109</title>\n<polygon fill=\"#fbebe0\" stroke=\"#000000\" points=\"807,-140 701,-140 701,-72 807,-72 807,-140\"/>\n<text text-anchor=\"middle\" x=\"754\" y=\"-124.8\" font-family=\"Times,serif\" font-size=\"14.00\" fill=\"#000000\">NOX &lt;= 0.692</text>\n<text text-anchor=\"middle\" x=\"754\" y=\"-109.8\" font-family=\"Times,serif\" font-size=\"14.00\" fill=\"#000000\">mse = 13.69</text>\n<text text-anchor=\"middle\" x=\"754\" y=\"-94.8\" font-family=\"Times,serif\" font-size=\"14.00\" fill=\"#000000\">samples = 2</text>\n<text text-anchor=\"middle\" x=\"754\" y=\"-79.8\" font-family=\"Times,serif\" font-size=\"14.00\" fill=\"#000000\">value = 14.1</text>\n</g>\n<!-- 91&#45;&gt;109 -->\n<g id=\"edge21\" class=\"edge\">\n<title>91&#45;&gt;109</title>\n<path fill=\"none\" stroke=\"#000000\" d=\"M712.3011,-175.9465C717.4396,-167.3271 723.0251,-157.9579 728.3886,-148.9611\"/>\n<polygon fill=\"#000000\" stroke=\"#000000\" points=\"731.5389,-150.5117 733.6533,-140.13 725.5263,-146.9272 731.5389,-150.5117\"/>\n</g>\n<!-- 93 -->\n<g id=\"node20\" class=\"node\">\n<title>93</title>\n<polygon fill=\"#c0c0c0\" stroke=\"#000000\" points=\"630,-36 576,-36 576,0 630,0 630,-36\"/>\n<text text-anchor=\"middle\" x=\"603\" y=\"-14.3\" font-family=\"Times,serif\" font-size=\"14.00\" fill=\"#000000\">(...)</text>\n</g>\n<!-- 92&#45;&gt;93 -->\n<g id=\"edge19\" class=\"edge\">\n<title>92&#45;&gt;93</title>\n<path fill=\"none\" stroke=\"#000000\" d=\"M620.1745,-71.9769C617.4174,-63.3119 614.487,-54.102 611.8421,-45.7894\"/>\n<polygon fill=\"#000000\" stroke=\"#000000\" points=\"615.1557,-44.66 608.7883,-36.192 608.4852,-46.7825 615.1557,-44.66\"/>\n</g>\n<!-- 96 -->\n<g id=\"node21\" class=\"node\">\n<title>96</title>\n<polygon fill=\"#c0c0c0\" stroke=\"#000000\" points=\"702,-36 648,-36 648,0 702,0 702,-36\"/>\n<text text-anchor=\"middle\" x=\"675\" y=\"-14.3\" font-family=\"Times,serif\" font-size=\"14.00\" fill=\"#000000\">(...)</text>\n</g>\n<!-- 92&#45;&gt;96 -->\n<g id=\"edge20\" class=\"edge\">\n<title>92&#45;&gt;96</title>\n<path fill=\"none\" stroke=\"#000000\" d=\"M648.0115,-71.9769C652.4393,-63.1215 657.1516,-53.6969 661.3787,-45.2427\"/>\n<polygon fill=\"#000000\" stroke=\"#000000\" points=\"664.5623,-46.7015 665.904,-36.192 658.3013,-43.571 664.5623,-46.7015\"/>\n</g>\n<!-- 110 -->\n<g id=\"node23\" class=\"node\">\n<title>110</title>\n<polygon fill=\"#c0c0c0\" stroke=\"#000000\" points=\"774,-36 720,-36 720,0 774,0 774,-36\"/>\n<text text-anchor=\"middle\" x=\"747\" y=\"-14.3\" font-family=\"Times,serif\" font-size=\"14.00\" fill=\"#000000\">(...)</text>\n</g>\n<!-- 109&#45;&gt;110 -->\n<g id=\"edge22\" class=\"edge\">\n<title>109&#45;&gt;110</title>\n<path fill=\"none\" stroke=\"#000000\" d=\"M751.2936,-71.9769C750.6195,-63.5023 749.9039,-54.5065 749.2542,-46.3388\"/>\n<polygon fill=\"#000000\" stroke=\"#000000\" points=\"752.7291,-45.8829 748.4471,-36.192 745.7511,-46.438 752.7291,-45.8829\"/>\n</g>\n<!-- 111 -->\n<g id=\"node24\" class=\"node\">\n<title>111</title>\n<polygon fill=\"#c0c0c0\" stroke=\"#000000\" points=\"846,-36 792,-36 792,0 846,0 846,-36\"/>\n<text text-anchor=\"middle\" x=\"819\" y=\"-14.3\" font-family=\"Times,serif\" font-size=\"14.00\" fill=\"#000000\">(...)</text>\n</g>\n<!-- 109&#45;&gt;111 -->\n<g id=\"edge23\" class=\"edge\">\n<title>109&#45;&gt;111</title>\n<path fill=\"none\" stroke=\"#000000\" d=\"M779.1307,-71.9769C785.8826,-62.8358 793.0825,-53.0883 799.4796,-44.4276\"/>\n<polygon fill=\"#000000\" stroke=\"#000000\" points=\"802.4367,-46.3151 805.5628,-36.192 796.8061,-42.1561 802.4367,-46.3151\"/>\n</g>\n<!-- 113 -->\n<g id=\"node26\" class=\"node\">\n<title>113</title>\n<polygon fill=\"#e88e4e\" stroke=\"#000000\" points=\"946.5,-140 835.5,-140 835.5,-72 946.5,-72 946.5,-140\"/>\n<text text-anchor=\"middle\" x=\"891\" y=\"-124.8\" font-family=\"Times,serif\" font-size=\"14.00\" fill=\"#000000\">CRIM &lt;= 0.577</text>\n<text text-anchor=\"middle\" x=\"891\" y=\"-109.8\" font-family=\"Times,serif\" font-size=\"14.00\" fill=\"#000000\">mse = 19.767</text>\n<text text-anchor=\"middle\" x=\"891\" y=\"-94.8\" font-family=\"Times,serif\" font-size=\"14.00\" fill=\"#000000\">samples = 26</text>\n<text text-anchor=\"middle\" x=\"891\" y=\"-79.8\" font-family=\"Times,serif\" font-size=\"14.00\" fill=\"#000000\">value = 45.596</text>\n</g>\n<!-- 112&#45;&gt;113 -->\n<g id=\"edge25\" class=\"edge\">\n<title>112&#45;&gt;113</title>\n<path fill=\"none\" stroke=\"#000000\" d=\"M891,-175.9465C891,-167.776 891,-158.9318 891,-150.3697\"/>\n<polygon fill=\"#000000\" stroke=\"#000000\" points=\"894.5001,-150.13 891,-140.13 887.5001,-150.13 894.5001,-150.13\"/>\n</g>\n<!-- 130 -->\n<g id=\"node29\" class=\"node\">\n<title>130</title>\n<polygon fill=\"#f6d4bc\" stroke=\"#000000\" points=\"1053.5,-132.5 964.5,-132.5 964.5,-79.5 1053.5,-79.5 1053.5,-132.5\"/>\n<text text-anchor=\"middle\" x=\"1009\" y=\"-117.3\" font-family=\"Times,serif\" font-size=\"14.00\" fill=\"#000000\">mse = 0.0</text>\n<text text-anchor=\"middle\" x=\"1009\" y=\"-102.3\" font-family=\"Times,serif\" font-size=\"14.00\" fill=\"#000000\">samples = 1</text>\n<text text-anchor=\"middle\" x=\"1009\" y=\"-87.3\" font-family=\"Times,serif\" font-size=\"14.00\" fill=\"#000000\">value = 21.9</text>\n</g>\n<!-- 112&#45;&gt;130 -->\n<g id=\"edge28\" class=\"edge\">\n<title>112&#45;&gt;130</title>\n<path fill=\"none\" stroke=\"#000000\" d=\"M929.6376,-175.9465C943.0101,-164.1606 957.9734,-150.9726 971.2719,-139.2519\"/>\n<polygon fill=\"#000000\" stroke=\"#000000\" points=\"973.697,-141.7799 978.8849,-132.5422 969.0685,-136.5285 973.697,-141.7799\"/>\n</g>\n<!-- 114 -->\n<g id=\"node27\" class=\"node\">\n<title>114</title>\n<polygon fill=\"#c0c0c0\" stroke=\"#000000\" points=\"918,-36 864,-36 864,0 918,0 918,-36\"/>\n<text text-anchor=\"middle\" x=\"891\" y=\"-14.3\" font-family=\"Times,serif\" font-size=\"14.00\" fill=\"#000000\">(...)</text>\n</g>\n<!-- 113&#45;&gt;114 -->\n<g id=\"edge26\" class=\"edge\">\n<title>113&#45;&gt;114</title>\n<path fill=\"none\" stroke=\"#000000\" d=\"M891,-71.9769C891,-63.5023 891,-54.5065 891,-46.3388\"/>\n<polygon fill=\"#000000\" stroke=\"#000000\" points=\"894.5001,-46.1919 891,-36.192 887.5001,-46.192 894.5001,-46.1919\"/>\n</g>\n<!-- 129 -->\n<g id=\"node28\" class=\"node\">\n<title>129</title>\n<polygon fill=\"#c0c0c0\" stroke=\"#000000\" points=\"990,-36 936,-36 936,0 990,0 990,-36\"/>\n<text text-anchor=\"middle\" x=\"963\" y=\"-14.3\" font-family=\"Times,serif\" font-size=\"14.00\" fill=\"#000000\">(...)</text>\n</g>\n<!-- 113&#45;&gt;129 -->\n<g id=\"edge27\" class=\"edge\">\n<title>113&#45;&gt;129</title>\n<path fill=\"none\" stroke=\"#000000\" d=\"M918.8371,-71.9769C926.3941,-62.7406 934.4576,-52.8851 941.5986,-44.1573\"/>\n<polygon fill=\"#000000\" stroke=\"#000000\" points=\"944.4921,-46.1479 948.1157,-36.192 939.0744,-41.7152 944.4921,-46.1479\"/>\n</g>\n</g>\n</svg>\n"
          },
          "metadata": {
            "tags": []
          },
          "execution_count": 42
        }
      ]
    },
    {
      "cell_type": "code",
      "metadata": {
        "id": "oYLaBIsUuZEj",
        "outputId": "6fa05cd8-d4ca-403d-8e86-fa5e8a7ab714",
        "colab": {
          "base_uri": "https://localhost:8080/",
          "height": 34
        }
      },
      "source": [
        "from sklearn.metrics import r2_score\n",
        "# API https://scikit-learn.org/stable/modules/generated/sklearn.metrics.r2_score.html\n",
        "pre = reg.predict(x_test)\n",
        "r2_score(y_test, pre)"
      ],
      "execution_count": null,
      "outputs": [
        {
          "output_type": "execute_result",
          "data": {
            "text/plain": [
              "0.9117126688011152"
            ]
          },
          "metadata": {
            "tags": []
          },
          "execution_count": 41
        }
      ]
    }
  ]
}